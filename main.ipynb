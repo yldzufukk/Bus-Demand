{
 "cells": [
  {
   "cell_type": "code",
   "execution_count": null,
   "metadata": {},
   "outputs": [],
   "source": [
    "import pandas as pd\n",
    "import numpy as np\n",
    "\n",
    "df = pd.read_csv('bus_demand.csv')"
   ]
  },
  {
   "cell_type": "code",
   "execution_count": 6,
   "metadata": {},
   "outputs": [],
   "source": [
    "df['timestamp'] = pd.to_datetime(df['timestamp'])\n",
    "df = df.groupby(['municipality_id', pd.Grouper(key='timestamp', freq='1H')]).max().reset_index()"
   ]
  },
  {
   "cell_type": "code",
   "execution_count": 7,
   "metadata": {},
   "outputs": [
    {
     "name": "stderr",
     "output_type": "stream",
     "text": [
      "C:\\Users\\mx\\AppData\\Local\\Temp\\ipykernel_1780\\4020780954.py:1: FutureWarning: Not prepending group keys to the result index of transform-like apply. In the future, the group keys will be included in the index, regardless of whether the applied function returns a like-indexed object.\n",
      "To preserve the previous behavior, use\n",
      "\n",
      "\t>>> .groupby(..., group_keys=False)\n",
      "\n",
      "To adopt the future behavior and silence this warning, use \n",
      "\n",
      "\t>>> .groupby(..., group_keys=True)\n",
      "  df = df.set_index(['municipality_id', 'timestamp']).groupby('municipality_id').apply(lambda x: x.interpolate(method='linear', limit_direction='both'))\n"
     ]
    }
   ],
   "source": [
    "df = df.set_index(['municipality_id', 'timestamp']).groupby('municipality_id').apply(lambda x: x.interpolate(method='linear', limit_direction='both'))\n",
    "df = df.reset_index()\n"
   ]
  },
  {
   "cell_type": "code",
   "execution_count": 8,
   "metadata": {},
   "outputs": [],
   "source": [
    "train_start = '2017-06-24'\n",
    "train_end = '2017-08-04'\n",
    "test_start = '2017-08-05'\n",
    "test_end = '2017-08-19'\n",
    "\n",
    "train_mask = (df['timestamp'] >= train_start) & (df['timestamp'] <= train_end)\n",
    "test_mask = (df['timestamp'] >= test_start) & (df['timestamp'] <= test_end)\n",
    "\n",
    "train = df.loc[train_mask]\n",
    "test = df.loc[test_mask]\n"
   ]
  },
  {
   "cell_type": "code",
   "execution_count": 9,
   "metadata": {},
   "outputs": [],
   "source": [
    "from sklearn.metrics import mean_absolute_error\n",
    "\n",
    "def evaluate(y_true, y_pred):\n",
    "    return mean_absolute_error(y_true, y_pred)\n"
   ]
  },
  {
   "cell_type": "code",
   "execution_count": 2,
   "metadata": {},
   "outputs": [],
   "source": [
    "def baseline_model(df_train, df_test):\n",
    "    # Get a list of all municipalities in the training set\n",
    "    municipalities = df_train['municipality_id'].unique()\n",
    "\n",
    "    predictions = []\n",
    "    for i, row in df_test.iterrows():\n",
    "        if i == 0:\n",
    "            predictions.append(row['usage'])\n",
    "        else:\n",
    "            prev_row = df_test.iloc[i-1]\n",
    "            if row['municipality_id'] not in municipalities:\n",
    "                # Skip prediction for this municipality\n",
    "                predictions.append(row['usage'])\n",
    "            elif row['municipality_id'] == prev_row['municipality_id']:\n",
    "                predictions.append(prev_row['usage'])\n",
    "            else:\n",
    "                predictions.append(row['usage'])\n",
    "    return np.array(predictions)\n"
   ]
  },
  {
   "cell_type": "code",
   "execution_count": 15,
   "metadata": {},
   "outputs": [
    {
     "name": "stderr",
     "output_type": "stream",
     "text": [
      "c:\\Users\\mx\\AppData\\Local\\Programs\\Python\\Python311\\Lib\\site-packages\\statsmodels\\tsa\\base\\tsa_model.py:834: ValueWarning: No supported index is available. Prediction results will be given with an integer index beginning at `start`.\n",
      "  return get_prediction_index(\n",
      "c:\\Users\\mx\\AppData\\Local\\Programs\\Python\\Python311\\Lib\\site-packages\\statsmodels\\tsa\\base\\tsa_model.py:834: ValueWarning: No supported index is available. Prediction results will be given with an integer index beginning at `start`.\n",
      "  return get_prediction_index(\n"
     ]
    }
   ],
   "source": [
    "#!pip install pmdarima\n",
    "\n",
    "from pmdarima.arima import auto_arima\n",
    "\n",
    "def sarima_model(df):\n",
    "    predictions = []\n",
    "    for municipality_id, group in df.groupby('municipality_id'):\n",
    "        train_group = group.loc[train_mask]\n",
    "        test_group = group.loc[test_mask]\n",
    "\n",
    "        # Use pmdarima to select the best hyperparameters\n",
    "        model = auto_arima(train_group['usage'], seasonal=True, m=24, suppress_warnings=True)\n",
    "        model.fit(train_group['usage'])\n",
    "\n",
    "        # Forecast the test set\n",
    "        forecast = model.predict(len(test_group))\n",
    "        predictions.extend(forecast)\n",
    "\n",
    "    return np.array(predictions)\n",
    "\n",
    "# Evaluate the SARIMA model on the test set\n",
    "y_true = test['municipality_id']\n",
    "y_pred = sarima_model(df)\n",
    "error = evaluate(y_true, y_pred)\n",
    "print(f'SARIMA model error: {error:.2f}')\n"
   ]
  },
  {
   "cell_type": "code",
   "execution_count": null,
   "metadata": {},
   "outputs": [],
   "source": []
  }
 ],
 "metadata": {
  "kernelspec": {
   "display_name": "Python 3.11.1 64-bit",
   "language": "python",
   "name": "python3"
  },
  "language_info": {
   "codemirror_mode": {
    "name": "ipython",
    "version": 3
   },
   "file_extension": ".py",
   "mimetype": "text/x-python",
   "name": "python",
   "nbconvert_exporter": "python",
   "pygments_lexer": "ipython3",
   "version": "3.11.1"
  },
  "orig_nbformat": 4,
  "vscode": {
   "interpreter": {
    "hash": "a0fae25449148e2341c2e396ec6e228d1c9ef72665917bb3a5c7efd732228cf4"
   }
  }
 },
 "nbformat": 4,
 "nbformat_minor": 2
}
